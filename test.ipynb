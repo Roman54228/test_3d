{
 "cells": [
  {
   "cell_type": "code",
   "execution_count": 2,
   "id": "2440c205",
   "metadata": {},
   "outputs": [
    {
     "name": "stdout",
     "output_type": "stream",
     "text": [
      "0.27622454633866267\n"
     ]
    }
   ],
   "source": [
    "import math\n",
    "\n",
    "def distance_3d(p1, p2):\n",
    "    \"\"\"\n",
    "    Вычисляет евклидово расстояние между двумя точками в 3D-пространстве.\n",
    "    \n",
    "    Аргументы:\n",
    "        p1, p2 — кортежи, списки или любые итерируемые объекты длиной 3,\n",
    "                 например: (x1, y1, z1) и (x2, y2, z2)\n",
    "    \n",
    "    Возвращает:\n",
    "        float — расстояние между точками\n",
    "    \"\"\"\n",
    "    x1, y1, z1 = p1\n",
    "    x2, y2, z2 = p2\n",
    "    return math.sqrt((x2 - x1)**2 + (y2 - y1)**2 + (z2 - z1)**2)\n",
    "\n",
    "# Пример использования:\n",
    "# point_a = (0.09, 0.90, 0.87)\n",
    "# point_a = (-0.16, 0.72, 0.66)\n",
    "# point_b = (-0.43, 0.74, 0.70)\n",
    "\n",
    "point_a = (-0.44, 0.64, 1.71)\n",
    "point_b = (-0.17, 0.61, 1.66)\n",
    "\n",
    "print(distance_3d(point_a, point_b))  # Выведет: 1.7320508075688772"
   ]
  },
  {
   "cell_type": "code",
   "execution_count": 5,
   "id": "61a3607e",
   "metadata": {},
   "outputs": [
    {
     "name": "stdout",
     "output_type": "stream",
     "text": [
      "0.2588435821108957\n"
     ]
    }
   ],
   "source": [
    "point_a = (-0.38, 0.72, 0.71)\n",
    "point_b = (-0.63, 0.75, 0.77)\n",
    "\n",
    "print(distance_3d(point_a, point_b)) "
   ]
  },
  {
   "cell_type": "code",
   "execution_count": null,
   "id": "a7ba4e7e",
   "metadata": {},
   "outputs": [
    {
     "name": "stdout",
     "output_type": "stream",
     "text": [
      "0.2109502310972899\n"
     ]
    }
   ],
   "source": [
    "point_a = (-0.27, 0.62, 1.62)\n",
    "point_b = (-0.05, 0.61, 1.63)\n",
    "# point_b = (-0.06, 0.60, 1.62)\n",
    "\n",
    "print(distance_3d(point_a, point_b)) "
   ]
  },
  {
   "cell_type": "code",
   "execution_count": null,
   "id": "f82bbec9",
   "metadata": {},
   "outputs": [],
   "source": []
  }
 ],
 "metadata": {
  "kernelspec": {
   "display_name": "Python 3",
   "language": "python",
   "name": "python3"
  },
  "language_info": {
   "codemirror_mode": {
    "name": "ipython",
    "version": 3
   },
   "file_extension": ".py",
   "mimetype": "text/x-python",
   "name": "python",
   "nbconvert_exporter": "python",
   "pygments_lexer": "ipython3",
   "version": "3.11.9"
  }
 },
 "nbformat": 4,
 "nbformat_minor": 5
}
